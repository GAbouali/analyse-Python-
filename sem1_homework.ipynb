{
 "cells": [
  {
   "attachments": {},
   "cell_type": "markdown",
   "metadata": {},
   "source": [
    "## Домашнее задание 2 ##\n",
    "#\n",
    "На складе лежат разные фрукты в разном количестве.\n",
    "Нужно написать функцию, которая на вход принимает любое\n",
    "количество названий фруктов и их количество, а возвращает\n",
    "общее количество фруктов на склад\n",
    "#"
   ]
  },
  {
   "cell_type": "code",
   "execution_count": 14,
   "metadata": {},
   "outputs": [
    {
     "name": "stdout",
     "output_type": "stream",
     "text": [
      "total fruits in the stock is  42\n"
     ]
    }
   ],
   "source": [
    "\n",
    "def calculate_fruits_total(*fruits):  # we used * here as we pass ()\n",
    "    total = 0\n",
    "    for fruit, quantity in fruits:\n",
    "        total += quantity\n",
    "    return total\n",
    "\n",
    "\n",
    "apples = (\"apples\", 20)\n",
    "oranges = (\"oranges\", 5)\n",
    "bananas = (\"bananas\", 7)\n",
    "mango = (\"mango\", 10)\n",
    "\n",
    "total_fruits = calculate_fruits_total(apples, oranges, bananas, mango)\n",
    "print(\"total fruits in the stock is \", total_fruits)\n"
   ]
  },
  {
   "cell_type": "code",
   "execution_count": 17,
   "metadata": {},
   "outputs": [
    {
     "name": "stdout",
     "output_type": "stream",
     "text": [
      "Общее количество фруктов на складе: 35\n"
     ]
    }
   ],
   "source": [
    "def calculate_total_fruits(fruits):\n",
    "    total = 0\n",
    "    for fruit, quantity in fruits:\n",
    "        total += quantity\n",
    "    return total\n",
    "\n",
    "\n",
    "# Пример использования функции\n",
    "fruits = [(\"яблоки\", 10), (\"бананы\", 5), (\"яблоки\", 3), (\"груши\", 7), (\"mango\", 10)]\n",
    "\n",
    "total_fruits = calculate_total_fruits(fruits)\n",
    "print(\"Общее количество фруктов на складе:\", total_fruits)\n"
   ]
  },
  {
   "cell_type": "code",
   "execution_count": null,
   "metadata": {},
   "outputs": [],
   "source": [
    "# apples = (\"apples\", 20)\n",
    "# oranges = (\"oranges\", 5)\n",
    "# bananas = (\"bananas\", 7)\n",
    "# mango = (\"mango\", 10)\n",
    "# total_fruits = calculate_fruits_total(apples, oranges, bananas, mango)\n"
   ]
  },
  {
   "attachments": {},
   "cell_type": "markdown",
   "metadata": {},
   "source": [
    "##\n",
    "Домашнее задание 3\n",
    "##\n",
    "#\n",
    "Дан список с затратами на рекламу. Но в данных есть ошибки, некоторые затраты имеют отрицательную величину. Удалите такие значения из списка и посчитайте суммарные затраты\n",
    "[100, 125, -90, 345, 655, -1, 0, 200]\n",
    "Используйте list comprehensions\n",
    "#"
   ]
  },
  {
   "cell_type": "code",
   "execution_count": 4,
   "metadata": {},
   "outputs": [
    {
     "name": "stdout",
     "output_type": "stream",
     "text": [
      "[100, 125, 345, 655, 0, 200]\n",
      "1425\n"
     ]
    }
   ],
   "source": [
    "expenses = [100, 125, -90, 345, 655, -1, 0, 200]\n",
    "\n",
    "\n",
    "filteered_expenses = [expense for expense in expenses if expense >= 0]\n",
    "total_expenses = sum(filteered_expenses)\n",
    "\n",
    "print(filteered_expenses)\n",
    "print(total_expenses)\n"
   ]
  }
 ],
 "metadata": {
  "kernelspec": {
   "display_name": "Python 3",
   "language": "python",
   "name": "python3"
  },
  "language_info": {
   "codemirror_mode": {
    "name": "ipython",
    "version": 3
   },
   "file_extension": ".py",
   "mimetype": "text/x-python",
   "name": "python",
   "nbconvert_exporter": "python",
   "pygments_lexer": "ipython3",
   "version": "3.11.0"
  },
  "orig_nbformat": 4
 },
 "nbformat": 4,
 "nbformat_minor": 2
}
